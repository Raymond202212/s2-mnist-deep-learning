{
 "cells": [
  {
   "cell_type": "code",
   "execution_count": 131,
   "id": "4a0455cb",
   "metadata": {},
   "outputs": [],
   "source": [
    "# import packages\n",
    "import os\n",
    "import numpy as np\n",
    "import matplotlib.pyplot as plt\n",
    "from keras.datasets import mnist\n",
    "# import the required model elements from keras\n",
    "from keras import models, layers, optimizers, utils\n",
    "import tensorflow as tf"
   ]
  },
  {
   "cell_type": "code",
   "execution_count": 5,
   "id": "b68208a6",
   "metadata": {},
   "outputs": [
    {
     "name": "stdout",
     "output_type": "stream",
     "text": [
      "X_train: (60000, 28, 28)\n",
      "Y_train: (60000,)\n",
      "X_test:  (10000, 28, 28)\n",
      "Y_test:  (10000,)\n"
     ]
    }
   ],
   "source": [
    "# https://www.digitalocean.com/community/tutorials/mnist-dataset-in-python\n",
    "# loading the dataset\n",
    "(train_x, train_y), (test_x, test_y) = mnist.load_data()\n",
    "\n",
    "# printing the shapes of the vectors \n",
    "print('X_train: ' + str(train_x.shape))\n",
    "print('Y_train: ' + str(train_y.shape))\n",
    "print('X_test:  '  + str(test_x.shape))\n",
    "print('Y_test:  '  + str(test_y.shape))"
   ]
  },
  {
   "cell_type": "code",
   "execution_count": 7,
   "id": "fe7cb0cf",
   "metadata": {},
   "outputs": [
    {
     "data": {
      "image/png": "[encoded data removed]",
      "text/plain": [
       "<Figure size 640x480 with 1 Axes>"
      ]
     },
     "metadata": {},
     "output_type": "display_data"
    },
    {
     "data": {
      "image/png": "[encoded data removed]",
      "text/plain": [
       "<Figure size 640x480 with 1 Axes>"
      ]
     },
     "metadata": {},
     "output_type": "display_data"
    },
    {
     "data": {
      "image/png": "[encoded data removed]",
      "text/plain": [
       "<Figure size 640x480 with 1 Axes>"
      ]
     },
     "metadata": {},
     "output_type": "display_data"
    },
    {
     "data": {
      "image/png": "[encoded data removed]",
      "text/plain": [
       "<Figure size 640x480 with 1 Axes>"
      ]
     },
     "metadata": {},
     "output_type": "display_data"
    },
    {
     "data": {
      "image/png": "[encoded data removed]",
      "text/plain": [
       "<Figure size 640x480 with 1 Axes>"
      ]
     },
     "metadata": {},
     "output_type": "display_data"
    },
    {
     "data": {
      "image/png": "[encoded data removed]",
      "text/plain": [
       "<Figure size 640x480 with 1 Axes>"
      ]
     },
     "metadata": {},
     "output_type": "display_data"
    },
    {
     "data": {
      "image/png": "[encoded data removed]",
      "text/plain": [
       "<Figure size 640x480 with 1 Axes>"
      ]
     },
     "metadata": {},
     "output_type": "display_data"
    },
    {
     "data": {
      "image/png": "[encoded data removed]",
      "text/plain": [
       "<Figure size 640x480 with 1 Axes>"
      ]
     },
     "metadata": {},
     "output_type": "display_data"
    },
    {
     "data": {
      "image/png": "[encoded data removed]",
      "text/plain": [
       "<Figure size 640x480 with 1 Axes>"
      ]
     },
     "metadata": {},
     "output_type": "display_data"
    }
   ],
   "source": [
    "# print some sample data\n",
    "from matplotlib import pyplot\n",
    "for i in range(9):  \n",
    "    plt.subplot(330 + 1 + i)\n",
    "    plt.imshow(train_X[i], cmap=pyplot.get_cmap('gray'))\n",
    "    plt.show()\n"
   ]
  },
  {
   "cell_type": "code",
   "execution_count": 14,
   "id": "fd75aab4",
   "metadata": {},
   "outputs": [],
   "source": [
    "# Try MLP to train & test the data\n",
    "# tailor the 28 * 28 single input as 784 1-D data\n",
    "train_x, test_x = train_x.reshape(60000, 784), test_x.reshape(10000, 784)\n",
    "train_y, test_y = utils.to_categorical(train_y, 10), utils.to_categorical(test_y, 10)"
   ]
  },
  {
   "cell_type": "code",
   "execution_count": 117,
   "id": "318c8d2b",
   "metadata": {},
   "outputs": [],
   "source": [
    "# input portal, it should be 784 * 1, identical to each data record's structure\n",
    "inputs = layers.Input(shape = (784, ))\n",
    "\n",
    "# definition of hidden layer\n",
    "x = layers.Dense(128, activation = 'selu')(inputs)\n",
    "x = layers.Dense(128, activation = 'selu')(x)\n",
    "x = layers.Dense(96, activation = 'selu')(x)\n",
    "x = layers.Dense(64, activation = 'selu')(x)\n",
    "x = layers.Dense(32, activation = 'selu')(x)\n",
    "\n",
    "\n",
    "\n",
    "outputs = layers.Dense(10, activation = 'sigmoid')(x)\n",
    "\n",
    "model = models.Model(inputs = inputs, outputs = outputs)"
   ]
  },
  {
   "cell_type": "code",
   "execution_count": 118,
   "id": "ec2de632",
   "metadata": {},
   "outputs": [
    {
     "name": "stdout",
     "output_type": "stream",
     "text": [
      "Epoch 1/10\n",
      "469/469 [==============================] - 3s 5ms/step - loss: 1.1358 - accuracy: 0.8157 - val_loss: 0.3330 - val_accuracy: 0.9137\n",
      "Epoch 2/10\n",
      "469/469 [==============================] - 2s 4ms/step - loss: 0.2459 - accuracy: 0.9333 - val_loss: 0.2321 - val_accuracy: 0.9432\n",
      "Epoch 3/10\n",
      "469/469 [==============================] - 2s 4ms/step - loss: 0.1628 - accuracy: 0.9542 - val_loss: 0.1803 - val_accuracy: 0.9520\n",
      "Epoch 4/10\n",
      "469/469 [==============================] - 2s 4ms/step - loss: 0.1248 - accuracy: 0.9636 - val_loss: 0.1714 - val_accuracy: 0.9547\n",
      "Epoch 5/10\n",
      "469/469 [==============================] - 2s 4ms/step - loss: 0.1035 - accuracy: 0.9702 - val_loss: 0.1515 - val_accuracy: 0.9594\n",
      "Epoch 6/10\n",
      "469/469 [==============================] - 2s 4ms/step - loss: 0.0851 - accuracy: 0.9744 - val_loss: 0.1381 - val_accuracy: 0.9646\n",
      "Epoch 7/10\n",
      "469/469 [==============================] - 2s 4ms/step - loss: 0.0790 - accuracy: 0.9762 - val_loss: 0.1406 - val_accuracy: 0.9656\n",
      "Epoch 8/10\n",
      "469/469 [==============================] - 2s 4ms/step - loss: 0.0729 - accuracy: 0.9789 - val_loss: 0.1371 - val_accuracy: 0.9667\n",
      "Epoch 9/10\n",
      "469/469 [==============================] - 2s 4ms/step - loss: 0.0616 - accuracy: 0.9817 - val_loss: 0.1329 - val_accuracy: 0.9701\n",
      "Epoch 10/10\n",
      "469/469 [==============================] - 2s 5ms/step - loss: 0.0582 - accuracy: 0.9827 - val_loss: 0.1370 - val_accuracy: 0.9683\n",
      "313/313 [==============================] - 0s 1ms/step - loss: 0.1370 - accuracy: 0.9683\n",
      "Test loss: 0.1370496153831482; test accurracy: 0.9682999849319458\n"
     ]
    }
   ],
   "source": [
    "# performance measuring\n",
    "model.compile(loss = 'categorical_crossentropy', optimizer = 'Nadam', metrics = ['accuracy'])\n",
    "\n",
    "history = model.fit(train_x, train_y, batch_size = 128, epochs = 10, validation_data = (test_x, test_y))\n",
    "\n",
    "score = model.evaluate(test_x, test_y)\n",
    "print(f'Test loss: {score[0]}; test accurracy: {score[1]}')"
   ]
  },
  {
   "cell_type": "code",
   "execution_count": 64,
   "id": "125efeeb",
   "metadata": {},
   "outputs": [
    {
     "name": "stdout",
     "output_type": "stream",
     "text": [
      "dict_keys(['loss', 'accuracy', 'val_loss', 'val_accuracy'])\n"
     ]
    }
   ],
   "source": [
    "print(history.history.keys())"
   ]
  },
  {
   "cell_type": "code",
   "execution_count": 119,
   "id": "366230e2",
   "metadata": {},
   "outputs": [
    {
     "data": {
      "image/png": "[encoded data removed]",
      "text/plain": [
       "<Figure size 640x480 with 1 Axes>"
      ]
     },
     "metadata": {},
     "output_type": "display_data"
    }
   ],
   "source": [
    "# plotting learning curves\n",
    "plt.plot(history.history['accuracy'], '--')\n",
    "plt.plot(history.history['val_accuracy'])\n",
    "plt.ylabel('Accuracy')\n",
    "plt.xlabel('epoch')\n",
    "plt.legend(['train', 'test'], loc = 'lower right')\n",
    "plt.show()"
   ]
  },
  {
   "cell_type": "code",
   "execution_count": 170,
   "id": "c8f701d0",
   "metadata": {},
   "outputs": [],
   "source": [
    "# By Covolutional Neural Network (CNN)\n",
    "(x_train, y_train), (x_test, y_test) = mnist.load_data()\n",
    "x_train, x_test = x_train.reshape(60000, 28, 28, 1), x_test.reshape(10000, 28, 28, 1)  # Important !!! the CNN input must be 4D input !!!\n",
    "y_train, y_test = utils.to_categorical(y_train, 10), utils.to_categorical(y_test, 10)"
   ]
  },
  {
   "cell_type": "code",
   "execution_count": 191,
   "id": "0ba88fd0",
   "metadata": {},
   "outputs": [],
   "source": [
    "inputs = layers.Input(shape = (28, 28, 1,))\n",
    "\n",
    "# conv layer\n",
    "x = layers.Conv2D(64, kernel_size = (3, 3), activation = 'selu')(inputs)\n",
    "x = layers.Conv2D(96, (3, 3), activation='selu')(x)\n",
    "# max pooling\n",
    "x = layers.MaxPooling2D(pool_size = (2, 2))(x)\n",
    "x = layers.Dropout(0.1)(x)\n",
    "\n",
    "\n",
    "# flatten before dense layers\n",
    "x = layers.Flatten()(x)\n",
    "\n",
    "# dense layers\n",
    "x = layers.Dense(128, activation = 'selu')(x)\n",
    "x = layers.Dense(128, activation = 'selu')(x)\n",
    "x = layers.Dense(96, activation = 'selu')(x)\n",
    "x = layers.Dense(64, activation = 'selu')(x)\n",
    "x = layers.Dense(32, activation = 'selu')(x)\n",
    "\n",
    "\n",
    "outputs = layers.Dense(10, activation = 'sigmoid')(x)\n",
    "\n",
    "model_2 = models.Model(inputs = inputs, outputs = outputs)"
   ]
  },
  {
   "cell_type": "code",
   "execution_count": 192,
   "id": "b9a308b9",
   "metadata": {},
   "outputs": [
    {
     "name": "stdout",
     "output_type": "stream",
     "text": [
      "Epoch 1/12\n",
      "469/469 [==============================] - 88s 183ms/step - loss: 0.2798 - accuracy: 0.9437 - val_loss: 0.0859 - val_accuracy: 0.9739\n",
      "Epoch 2/12\n",
      "469/469 [==============================] - 89s 190ms/step - loss: 0.0602 - accuracy: 0.9829 - val_loss: 0.0688 - val_accuracy: 0.9813\n",
      "Epoch 3/12\n",
      "469/469 [==============================] - 89s 189ms/step - loss: 0.0437 - accuracy: 0.9872 - val_loss: 0.0590 - val_accuracy: 0.9856\n",
      "Epoch 4/12\n",
      "469/469 [==============================] - 96s 205ms/step - loss: 0.0345 - accuracy: 0.9897 - val_loss: 0.0587 - val_accuracy: 0.9835\n",
      "Epoch 5/12\n",
      "469/469 [==============================] - 102s 217ms/step - loss: 0.0285 - accuracy: 0.9913 - val_loss: 0.0704 - val_accuracy: 0.9807\n",
      "Epoch 6/12\n",
      "469/469 [==============================] - 106s 227ms/step - loss: 0.0285 - accuracy: 0.9916 - val_loss: 0.0738 - val_accuracy: 0.9823\n",
      "Epoch 7/12\n",
      "469/469 [==============================] - 105s 224ms/step - loss: 0.0265 - accuracy: 0.9925 - val_loss: 0.0601 - val_accuracy: 0.9847\n",
      "Epoch 8/12\n",
      "469/469 [==============================] - 106s 226ms/step - loss: 0.0245 - accuracy: 0.9927 - val_loss: 0.0749 - val_accuracy: 0.9846\n",
      "Epoch 9/12\n",
      "469/469 [==============================] - 108s 230ms/step - loss: 0.0182 - accuracy: 0.9947 - val_loss: 0.0778 - val_accuracy: 0.9825\n",
      "Epoch 10/12\n",
      "469/469 [==============================] - 107s 228ms/step - loss: 0.0185 - accuracy: 0.9944 - val_loss: 0.0716 - val_accuracy: 0.9856\n",
      "Epoch 11/12\n",
      "469/469 [==============================] - 107s 228ms/step - loss: 0.0172 - accuracy: 0.9950 - val_loss: 0.0657 - val_accuracy: 0.9865\n",
      "Epoch 12/12\n",
      "469/469 [==============================] - 107s 227ms/step - loss: 0.0187 - accuracy: 0.9946 - val_loss: 0.0667 - val_accuracy: 0.9879\n",
      "Test loss: 0.06671728938817978; test accurracy: 0.9879000186920166\n"
     ]
    }
   ],
   "source": [
    "# performance measuring\n",
    "model_2.compile(loss = 'categorical_crossentropy', optimizer = 'Nadam', metrics = ['accuracy'])\n",
    "\n",
    "history = model_2.fit(x_train, y_train, batch_size = 128, epochs = 12, verbose = 1, validation_data = (x_test, y_test))\n",
    "\n",
    "score = model_2.evaluate(x_test, y_test, verbose = 0)\n",
    "print(f'Test loss: {score[0]}; test accurracy: {score[1]}')\n",
    "\n",
    "# Test loss: 0.06671728938817978; test accurracy: 0.9879000186920166\n"
   ]
  },
  {
   "cell_type": "code",
   "execution_count": 193,
   "id": "7dd515dc",
   "metadata": {},
   "outputs": [
    {
     "data": {
      "image/png": "[encoded data removed]",
      "text/plain": [
       "<Figure size 640x480 with 1 Axes>"
      ]
     },
     "metadata": {},
     "output_type": "display_data"
    }
   ],
   "source": [
    "# plotting learning curves\n",
    "plt.plot(history.history['accuracy'], '--')\n",
    "plt.plot(history.history['val_accuracy'])\n",
    "plt.ylabel('Accuracy')\n",
    "plt.xlabel('epoch')\n",
    "plt.legend(['train', 'test'], loc = 'lower right')\n",
    "plt.show()"
   ]
  },
  {
   "cell_type": "code",
   "execution_count": 144,
   "id": "2d2e9897",
   "metadata": {},
   "outputs": [
    {
     "name": "stdout",
     "output_type": "stream",
     "text": [
      "Help on Adadelta in module keras.optimizers.optimizer_v2.adadelta object:\n",
      "\n",
      "class Adadelta(keras.optimizers.optimizer_v2.optimizer_v2.OptimizerV2)\n",
      " |  Adadelta(learning_rate=0.001, rho=0.95, epsilon=1e-07, name='Adadelta', **kwargs)\n",
      " |  \n",
      " |  Optimizer that implements the Adadelta algorithm.\n",
      " |  \n",
      " |  Adadelta optimization is a stochastic gradient descent method that is based\n",
      " |  on adaptive learning rate per dimension to address two drawbacks:\n",
      " |  \n",
      " |  - The continual decay of learning rates throughout training.\n",
      " |  - The need for a manually selected global learning rate.\n",
      " |  \n",
      " |  Adadelta is a more robust extension of Adagrad that adapts learning rates\n",
      " |  based on a moving window of gradient updates, instead of accumulating all\n",
      " |  past gradients. This way, Adadelta continues learning even when many updates\n",
      " |  have been done. Compared to Adagrad, in the original version of Adadelta you\n",
      " |  don't have to set an initial learning rate. In this version, the initial\n",
      " |  learning rate can be set, as in most other Keras optimizers.\n",
      " |  \n",
      " |  Args:\n",
      " |    learning_rate: Initial value for the learning rate:\n",
      " |      either a floating point value,\n",
      " |      or a `tf.keras.optimizers.schedules.LearningRateSchedule` instance.\n",
      " |      Defaults to 0.001.\n",
      " |      Note that `Adadelta` tends to benefit from higher initial learning rate\n",
      " |      values compared to other optimizers.\n",
      " |      To match the exact form in the original paper, use 1.0.\n",
      " |    rho: A `Tensor` or a floating point value. The decay rate.\n",
      " |    epsilon: Small floating point value used to maintain numerical stability.\n",
      " |    name: Optional name prefix for the operations created when applying\n",
      " |      gradients.  Defaults to `\"Adadelta\"`.\n",
      " |    **kwargs: keyword arguments. Allowed arguments are `clipvalue`,\n",
      " |      `clipnorm`, `global_clipnorm`.\n",
      " |      If `clipvalue` (float) is set, the gradient of each weight\n",
      " |      is clipped to be no higher than this value.\n",
      " |      If `clipnorm` (float) is set, the gradient of each weight\n",
      " |      is individually clipped so that its norm is no higher than this value.\n",
      " |      If `global_clipnorm` (float) is set the gradient of all weights is\n",
      " |      clipped so that their global norm is no higher than this value.\n",
      " |  \n",
      " |  Reference:\n",
      " |    - [Zeiler, 2012](http://arxiv.org/abs/1212.5701)\n",
      " |  \n",
      " |  Method resolution order:\n",
      " |      Adadelta\n",
      " |      keras.optimizers.optimizer_v2.optimizer_v2.OptimizerV2\n",
      " |      tensorflow.python.trackable.base.Trackable\n",
      " |      builtins.object\n",
      " |  \n",
      " |  Methods defined here:\n",
      " |  \n",
      " |  __init__(self, learning_rate=0.001, rho=0.95, epsilon=1e-07, name='Adadelta', **kwargs)\n",
      " |      Create a new Optimizer.\n",
      " |      \n",
      " |      This must be called by the constructors of subclasses.\n",
      " |      Note that Optimizer instances should not bind to a single graph,\n",
      " |      and so shouldn't keep Tensors as member variables. Generally\n",
      " |      you should be able to use the _set_hyper()/state.get_hyper()\n",
      " |      facility instead.\n",
      " |      \n",
      " |      This class is stateful and thread-compatible.\n",
      " |      \n",
      " |      Example of custom gradient transformations:\n",
      " |      \n",
      " |      ```python\n",
      " |      def my_gradient_transformer(grads_and_vars):\n",
      " |        # Simple example, double the gradients.\n",
      " |        return [(2. * g, v) for g, v in grads_and_vars]\n",
      " |      \n",
      " |      optimizer = tf.keras.optimizers.legacy.SGD(\n",
      " |          1e-3, gradient_transformers=[my_gradient_transformer])\n",
      " |      ```\n",
      " |      \n",
      " |      Args:\n",
      " |        name: String. The name to use for momentum accumulator weights created\n",
      " |          by the optimizer.\n",
      " |        gradient_aggregator: The function to use to aggregate gradients across\n",
      " |          devices (when using `tf.distribute.Strategy`). If `None`, defaults\n",
      " |          to summing the gradients across devices. The function should accept\n",
      " |          and return a list of `(gradient, variable)` tuples.\n",
      " |        gradient_transformers: Optional. List of functions to use to transform\n",
      " |          gradients before applying updates to Variables. The functions are\n",
      " |          applied after `gradient_aggregator`. The functions should accept and\n",
      " |          return a list of `(gradient, variable)` tuples.\n",
      " |        **kwargs: keyword arguments. Allowed arguments are `clipvalue`,\n",
      " |          `clipnorm`, `global_clipnorm`.\n",
      " |          If `clipvalue` (float) is set, the gradient of each weight\n",
      " |          is clipped to be no higher than this value.\n",
      " |          If `clipnorm` (float) is set, the gradient of each weight\n",
      " |          is individually clipped so that its norm is no higher than this\n",
      " |          value. If `global_clipnorm` (float) is set the gradient of all\n",
      " |          weights is clipped so that their global norm is no higher than this\n",
      " |          value.\n",
      " |      \n",
      " |      Raises:\n",
      " |        ValueError: in case of any invalid argument.\n",
      " |  \n",
      " |  get_config(self)\n",
      " |      Returns the config of the optimizer.\n",
      " |      \n",
      " |      An optimizer config is a Python dictionary (serializable)\n",
      " |      containing the configuration of an optimizer.\n",
      " |      The same optimizer can be reinstantiated later\n",
      " |      (without any saved state) from this configuration.\n",
      " |      \n",
      " |      Returns:\n",
      " |          Python dictionary.\n",
      " |  \n",
      " |  set_weights(self, weights)\n",
      " |      Set the weights of the optimizer.\n",
      " |      \n",
      " |      The weights of an optimizer are its state (ie, variables).\n",
      " |      This function takes the weight values associated with this\n",
      " |      optimizer as a list of Numpy arrays. The first value is always the\n",
      " |      iterations count of the optimizer, followed by the optimizer's state\n",
      " |      variables in the order they are created. The passed values are used to\n",
      " |      set the new state of the optimizer.\n",
      " |      \n",
      " |      For example, the RMSprop optimizer for this simple model takes a list of\n",
      " |      three values-- the iteration count, followed by the root-mean-square\n",
      " |      value of the kernel and bias of the single Dense layer:\n",
      " |      \n",
      " |      >>> opt = tf.keras.optimizers.legacy.RMSprop()\n",
      " |      >>> m = tf.keras.models.Sequential([tf.keras.layers.Dense(10)])\n",
      " |      >>> m.compile(opt, loss='mse')\n",
      " |      >>> data = np.arange(100).reshape(5, 20)\n",
      " |      >>> labels = np.zeros(5)\n",
      " |      >>> results = m.fit(data, labels)  # Training.\n",
      " |      >>> new_weights = [np.array(10), np.ones([20, 10]), np.zeros([10])]\n",
      " |      >>> opt.set_weights(new_weights)\n",
      " |      >>> opt.iterations\n",
      " |      <tf.Variable 'RMSprop/iter:0' shape=() dtype=int64, numpy=10>\n",
      " |      \n",
      " |      Args:\n",
      " |          weights: weight values as a list of numpy arrays.\n",
      " |  \n",
      " |  ----------------------------------------------------------------------\n",
      " |  Methods inherited from keras.optimizers.optimizer_v2.optimizer_v2.OptimizerV2:\n",
      " |  \n",
      " |  __dir__(self)\n",
      " |      Default dir() implementation.\n",
      " |  \n",
      " |  __getattribute__(self, name)\n",
      " |      Overridden to support hyperparameter access.\n",
      " |  \n",
      " |  __setattr__(self, name, value)\n",
      " |      Override setattr to support dynamic hyperparameter setting.\n",
      " |  \n",
      " |  add_slot(self, var, slot_name, initializer='zeros', shape=None)\n",
      " |      Add a new slot variable for `var`.\n",
      " |      \n",
      " |      A slot variable is an additional variable associated with `var` to\n",
      " |      train.  It is allocated and managed by optimizers, e.g. `Adam`.\n",
      " |      \n",
      " |      Args:\n",
      " |        var: a `Variable` object.\n",
      " |        slot_name: name of the slot variable.\n",
      " |        initializer: initializer of the slot variable\n",
      " |        shape: (Optional) shape of the slot variable. If not set, it will\n",
      " |          default to the shape of `var`.\n",
      " |      \n",
      " |      Returns:\n",
      " |        A slot variable.\n",
      " |  \n",
      " |  add_weight(self, name, shape, dtype=None, initializer='zeros', trainable=None, synchronization=<VariableSynchronization.AUTO: 0>, aggregation=<VariableAggregationV2.NONE: 0>)\n",
      " |  \n",
      " |  apply_gradients(self, grads_and_vars, name=None, experimental_aggregate_gradients=True)\n",
      " |      Apply gradients to variables.\n",
      " |      \n",
      " |      This is the second part of `minimize()`. It returns an `Operation` that\n",
      " |      applies gradients.\n",
      " |      \n",
      " |      The method sums gradients from all replicas in the presence of\n",
      " |      `tf.distribute.Strategy` by default. You can aggregate gradients\n",
      " |      yourself by passing `experimental_aggregate_gradients=False`.\n",
      " |      \n",
      " |      Example:\n",
      " |      \n",
      " |      ```python\n",
      " |      grads = tape.gradient(loss, vars)\n",
      " |      grads = tf.distribute.get_replica_context().all_reduce('sum', grads)\n",
      " |      # Processing aggregated gradients.\n",
      " |      optimizer.apply_gradients(zip(grads, vars),\n",
      " |          experimental_aggregate_gradients=False)\n",
      " |      \n",
      " |      ```\n",
      " |      \n",
      " |      Args:\n",
      " |        grads_and_vars: List of (gradient, variable) pairs.\n",
      " |        name: Optional name for the returned operation. Default to the name\n",
      " |          passed to the `Optimizer` constructor.\n",
      " |        experimental_aggregate_gradients: Whether to sum gradients from\n",
      " |          different replicas in the presence of `tf.distribute.Strategy`. If\n",
      " |          False, it's user responsibility to aggregate the gradients. Default\n",
      " |          to True.\n",
      " |      \n",
      " |      Returns:\n",
      " |        An `Operation` that applies the specified gradients. The `iterations`\n",
      " |        will be automatically increased by 1.\n",
      " |      \n",
      " |      Raises:\n",
      " |        TypeError: If `grads_and_vars` is malformed.\n",
      " |        ValueError: If none of the variables have gradients.\n",
      " |        RuntimeError: If called in a cross-replica context.\n",
      " |  \n",
      " |  get_gradients(self, loss, params)\n",
      " |      Returns gradients of `loss` with respect to `params`.\n",
      " |      \n",
      " |      Should be used only in legacy v1 graph mode.\n",
      " |      \n",
      " |      Args:\n",
      " |        loss: Loss tensor.\n",
      " |        params: List of variables.\n",
      " |      \n",
      " |      Returns:\n",
      " |        List of gradient tensors.\n",
      " |      \n",
      " |      Raises:\n",
      " |        ValueError: In case any gradient cannot be computed (e.g. if gradient\n",
      " |          function not implemented).\n",
      " |  \n",
      " |  get_slot(self, var, slot_name)\n",
      " |  \n",
      " |  get_slot_names(self)\n",
      " |      A list of names for this optimizer's slots.\n",
      " |  \n",
      " |  get_updates(self, loss, params)\n",
      " |  \n",
      " |  get_weights(self)\n",
      " |      Returns the current weights of the optimizer.\n",
      " |      \n",
      " |      The weights of an optimizer are its state (ie, variables).\n",
      " |      This function returns the weight values associated with this\n",
      " |      optimizer as a list of Numpy arrays. The first value is always the\n",
      " |      iterations count of the optimizer, followed by the optimizer's state\n",
      " |      variables in the order they were created. The returned list can in turn\n",
      " |      be used to load state into similarly parameterized optimizers.\n",
      " |      \n",
      " |      For example, the RMSprop optimizer for this simple model returns a list\n",
      " |      of three values-- the iteration count, followed by the root-mean-square\n",
      " |      value of the kernel and bias of the single Dense layer:\n",
      " |      \n",
      " |      >>> opt = tf.keras.optimizers.legacy.RMSprop()\n",
      " |      >>> m = tf.keras.models.Sequential([tf.keras.layers.Dense(10)])\n",
      " |      >>> m.compile(opt, loss='mse')\n",
      " |      >>> data = np.arange(100).reshape(5, 20)\n",
      " |      >>> labels = np.zeros(5)\n",
      " |      >>> results = m.fit(data, labels)  # Training.\n",
      " |      >>> len(opt.get_weights())\n",
      " |      3\n",
      " |      \n",
      " |      Returns:\n",
      " |          Weights values as a list of numpy arrays.\n",
      " |  \n",
      " |  minimize(self, loss, var_list, grad_loss=None, name=None, tape=None)\n",
      " |      Minimize `loss` by updating `var_list`.\n",
      " |      \n",
      " |      This method simply computes gradient using `tf.GradientTape` and calls\n",
      " |      `apply_gradients()`. If you want to process the gradient before applying\n",
      " |      then call `tf.GradientTape` and `apply_gradients()` explicitly instead\n",
      " |      of using this function.\n",
      " |      \n",
      " |      Args:\n",
      " |        loss: `Tensor` or callable. If a callable, `loss` should take no\n",
      " |          arguments and return the value to minimize. If a `Tensor`, the\n",
      " |          `tape` argument must be passed.\n",
      " |        var_list: list or tuple of `Variable` objects to update to minimize\n",
      " |          `loss`, or a callable returning the list or tuple of `Variable`\n",
      " |          objects.  Use callable when the variable list would otherwise be\n",
      " |          incomplete before `minimize` since the variables are created at the\n",
      " |          first time `loss` is called.\n",
      " |        grad_loss: (Optional). A `Tensor` holding the gradient computed for\n",
      " |          `loss`.\n",
      " |        name: (Optional) str. Name for the returned operation.\n",
      " |        tape: (Optional) `tf.GradientTape`. If `loss` is provided as a\n",
      " |          `Tensor`, the tape that computed the `loss` must be provided.\n",
      " |      \n",
      " |      Returns:\n",
      " |        An `Operation` that updates the variables in `var_list`. The\n",
      " |        `iterations` will be automatically increased by 1.\n",
      " |      \n",
      " |      Raises:\n",
      " |        ValueError: If some of the variables are not `Variable` objects.\n",
      " |  \n",
      " |  variables(self)\n",
      " |      Returns variables of this Optimizer based on the order created.\n",
      " |  \n",
      " |  ----------------------------------------------------------------------\n",
      " |  Class methods inherited from keras.optimizers.optimizer_v2.optimizer_v2.OptimizerV2:\n",
      " |  \n",
      " |  from_config(config, custom_objects=None) from builtins.type\n",
      " |      Creates an optimizer from its config.\n",
      " |      \n",
      " |      This method is the reverse of `get_config`,\n",
      " |      capable of instantiating the same optimizer from the config\n",
      " |      dictionary.\n",
      " |      \n",
      " |      Args:\n",
      " |          config: A Python dictionary, typically the output of get_config.\n",
      " |          custom_objects: A Python dictionary mapping names to additional\n",
      " |            Python objects used to create this optimizer, such as a function\n",
      " |            used for a hyperparameter.\n",
      " |      \n",
      " |      Returns:\n",
      " |          An optimizer instance.\n",
      " |  \n",
      " |  ----------------------------------------------------------------------\n",
      " |  Readonly properties inherited from keras.optimizers.optimizer_v2.optimizer_v2.OptimizerV2:\n",
      " |  \n",
      " |  weights\n",
      " |      Returns variables of this Optimizer based on the order created.\n",
      " |  \n",
      " |  ----------------------------------------------------------------------\n",
      " |  Data descriptors inherited from keras.optimizers.optimizer_v2.optimizer_v2.OptimizerV2:\n",
      " |  \n",
      " |  clipnorm\n",
      " |      `float` or `None`. If set, clips gradients to a maximum norm.\n",
      " |  \n",
      " |  clipvalue\n",
      " |      `float` or `None`. If set, clips gradients to a maximum value.\n",
      " |  \n",
      " |  global_clipnorm\n",
      " |      `float` or `None`.\n",
      " |      \n",
      " |      If set, clips gradients to a maximum norm.\n",
      " |      \n",
      " |      Check `tf.clip_by_global_norm` for more details.\n",
      " |  \n",
      " |  iterations\n",
      " |      Variable. The number of training steps this Optimizer has run.\n",
      " |  \n",
      " |  ----------------------------------------------------------------------\n",
      " |  Data descriptors inherited from tensorflow.python.trackable.base.Trackable:\n",
      " |  \n",
      " |  __dict__\n",
      " |      dictionary for instance variables (if defined)\n",
      " |  \n",
      " |  __weakref__\n",
      " |      list of weak references to the object (if defined)\n",
      "\n"
     ]
    }
   ],
   "source": [
    "# Hence, it seems that CNN is better than DNN since it fuses both cov and dense into one network system, adding to the fact that DNN is usually excel in process specific feature while Cov in general feature"
   ]
  },
  {
   "cell_type": "code",
   "execution_count": null,
   "id": "d1f0ce28",
   "metadata": {},
   "outputs": [],
   "source": []
  }
 ],
 "metadata": {
  "kernelspec": {
   "display_name": "Python 3 (ipykernel)",
   "language": "python",
   "name": "python3"
  },
  "language_info": {
   "codemirror_mode": {
    "name": "ipython",
    "version": 3
   },
   "file_extension": ".py",
   "mimetype": "text/x-python",
   "name": "python",
   "nbconvert_exporter": "python",
   "pygments_lexer": "ipython3",
   "version": "3.10.9"
  }
 },
 "nbformat": 4,
 "nbformat_minor": 5
}
